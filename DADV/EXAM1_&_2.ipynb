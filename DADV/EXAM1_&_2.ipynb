{
  "nbformat": 4,
  "nbformat_minor": 0,
  "metadata": {
    "colab": {
      "name": "EXAM1 & 2.ipynb",
      "provenance": []
    },
    "kernelspec": {
      "name": "python3",
      "display_name": "Python 3"
    }
  },
  "cells": [
    {
      "cell_type": "code",
      "metadata": {
        "colab": {
          "base_uri": "https://localhost:8080/",
          "height": 229
        },
        "id": "5OolJGuSq9Cg",
        "outputId": "befde9b0-8f18-4ee6-eb4e-0fef47286b9c"
      },
      "source": [
        "import urllib.request\r\n",
        "import pytz\r\n",
        "import pandas_datareader.data as web\r\n",
        "import datetime\r\n",
        "from bs4 import BeautifulSoup\r\n",
        "import csv\r\n",
        "with urllib.request.urlopen(\"https://en.wikipedia.org/wiki/List_of_S%26P_500_companies\") as response:\r\n",
        "   myp = response.read()\r\n",
        "mySoup = BeautifulSoup(myp, \"html.parser\") # parse html soup \r\n",
        "table = mySoup.find('table', {'class': 'wikitable sortable'})\r\n",
        "sector_tickers = dict()\r\n",
        "for row in table.findAll('tr'):\r\n",
        "    col = row.findAll('td')\r\n",
        "    if len(col) > 0:\r\n",
        "        sector = str(col[3].string.strip()).lower().replace(' ', '_')\r\n",
        "        ticker = str(col[0].string.strip())\r\n",
        "        if sector not in sector_tickers:\r\n",
        "            sector_tickers[sector] = list()\r\n",
        "        sector_tickers[sector].append(ticker)\r\n",
        "start = datetime.datetime(2018, 4, 1)  # start date\r\n",
        "end = datetime.datetime(2021, 1, 1) # end date\r\n",
        "\r\n",
        "myKeys = sector_tickers.keys()\r\n",
        "\r\n",
        "for i in xrange(0,len(myKeys)):\r\n",
        "    myTickers = sector_tickers[myKeys[i]]\r\n",
        "    for j in xrange(0,len(myTickers)):\r\n",
        "        myData = web.DataReader(myTickers[j], 'yahoo', start, end)\r\n",
        "        fileName = myTickers[j] + '.csv'\r\n",
        "        myData.to_csv(fileName)"
      ],
      "execution_count": 6,
      "outputs": [
        {
          "output_type": "error",
          "ename": "AttributeError",
          "evalue": "ignored",
          "traceback": [
            "\u001b[0;31m---------------------------------------------------------------------------\u001b[0m",
            "\u001b[0;31mAttributeError\u001b[0m                            Traceback (most recent call last)",
            "\u001b[0;32m<ipython-input-6-d52f9b3af0d2>\u001b[0m in \u001b[0;36m<module>\u001b[0;34m()\u001b[0m\n\u001b[1;32m     14\u001b[0m     \u001b[0;32mif\u001b[0m \u001b[0mlen\u001b[0m\u001b[0;34m(\u001b[0m\u001b[0mcol\u001b[0m\u001b[0;34m)\u001b[0m \u001b[0;34m>\u001b[0m \u001b[0;36m0\u001b[0m\u001b[0;34m:\u001b[0m\u001b[0;34m\u001b[0m\u001b[0;34m\u001b[0m\u001b[0m\n\u001b[1;32m     15\u001b[0m         \u001b[0msector\u001b[0m \u001b[0;34m=\u001b[0m \u001b[0mstr\u001b[0m\u001b[0;34m(\u001b[0m\u001b[0mcol\u001b[0m\u001b[0;34m[\u001b[0m\u001b[0;36m3\u001b[0m\u001b[0;34m]\u001b[0m\u001b[0;34m.\u001b[0m\u001b[0mstring\u001b[0m\u001b[0;34m.\u001b[0m\u001b[0mstrip\u001b[0m\u001b[0;34m(\u001b[0m\u001b[0;34m)\u001b[0m\u001b[0;34m)\u001b[0m\u001b[0;34m.\u001b[0m\u001b[0mlower\u001b[0m\u001b[0;34m(\u001b[0m\u001b[0;34m)\u001b[0m\u001b[0;34m.\u001b[0m\u001b[0mreplace\u001b[0m\u001b[0;34m(\u001b[0m\u001b[0;34m' '\u001b[0m\u001b[0;34m,\u001b[0m \u001b[0;34m'_'\u001b[0m\u001b[0;34m)\u001b[0m\u001b[0;34m\u001b[0m\u001b[0;34m\u001b[0m\u001b[0m\n\u001b[0;32m---> 16\u001b[0;31m         \u001b[0mticker\u001b[0m \u001b[0;34m=\u001b[0m \u001b[0mstr\u001b[0m\u001b[0;34m(\u001b[0m\u001b[0mcol\u001b[0m\u001b[0;34m[\u001b[0m\u001b[0;36m0\u001b[0m\u001b[0;34m]\u001b[0m\u001b[0;34m.\u001b[0m\u001b[0mstring\u001b[0m\u001b[0;34m.\u001b[0m\u001b[0mstrip\u001b[0m\u001b[0;34m(\u001b[0m\u001b[0;34m)\u001b[0m\u001b[0;34m)\u001b[0m\u001b[0;34m\u001b[0m\u001b[0;34m\u001b[0m\u001b[0m\n\u001b[0m\u001b[1;32m     17\u001b[0m         \u001b[0;32mif\u001b[0m \u001b[0msector\u001b[0m \u001b[0;32mnot\u001b[0m \u001b[0;32min\u001b[0m \u001b[0msector_tickers\u001b[0m\u001b[0;34m:\u001b[0m\u001b[0;34m\u001b[0m\u001b[0;34m\u001b[0m\u001b[0m\n\u001b[1;32m     18\u001b[0m             \u001b[0msector_tickers\u001b[0m\u001b[0;34m[\u001b[0m\u001b[0msector\u001b[0m\u001b[0;34m]\u001b[0m \u001b[0;34m=\u001b[0m \u001b[0mlist\u001b[0m\u001b[0;34m(\u001b[0m\u001b[0;34m)\u001b[0m\u001b[0;34m\u001b[0m\u001b[0;34m\u001b[0m\u001b[0m\n",
            "\u001b[0;31mAttributeError\u001b[0m: 'NoneType' object has no attribute 'strip'"
          ]
        }
      ]
    }
  ]
}